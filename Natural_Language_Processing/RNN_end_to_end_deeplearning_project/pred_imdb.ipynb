{
 "cells": [
  {
   "cell_type": "code",
   "execution_count": 7,
   "metadata": {},
   "outputs": [],
   "source": [
    "import numpy as np\n",
    "import tensorflow as tf\n",
    "from tensorflow.keras.datasets import imdb\n",
    "from tensorflow.keras.preprocessing import sequence\n",
    "from tensorflow.keras.models import Sequential, load_model\n",
    "from tensorflow.keras.layers import Embedding, SimpleRNN, Dense"
   ]
  },
  {
   "cell_type": "code",
   "execution_count": 8,
   "metadata": {},
   "outputs": [],
   "source": [
    "word_index = imdb.get_word_index()\n",
    "reverse_word_index = {value: key for (key, value) in word_index.items()}"
   ]
  },
  {
   "cell_type": "code",
   "execution_count": 10,
   "metadata": {},
   "outputs": [
    {
     "name": "stderr",
     "output_type": "stream",
     "text": [
      "2025-04-03 16:31:32.707992: E external/local_xla/xla/stream_executor/cuda/cuda_platform.cc:51] failed call to cuInit: INTERNAL: CUDA error: Failed call to cuInit: CUDA_ERROR_NO_DEVICE: no CUDA-capable device is detected\n",
      "WARNING:absl:Compiled the loaded model, but the compiled metrics have yet to be built. `model.compile_metrics` will be empty until you train or evaluate the model.\n"
     ]
    },
    {
     "data": {
      "text/html": [
       "<pre style=\"white-space:pre;overflow-x:auto;line-height:normal;font-family:Menlo,'DejaVu Sans Mono',consolas,'Courier New',monospace\"><span style=\"font-weight: bold\">Model: \"sequential_1\"</span>\n",
       "</pre>\n"
      ],
      "text/plain": [
       "\u001b[1mModel: \"sequential_1\"\u001b[0m\n"
      ]
     },
     "metadata": {},
     "output_type": "display_data"
    },
    {
     "data": {
      "text/html": [
       "<pre style=\"white-space:pre;overflow-x:auto;line-height:normal;font-family:Menlo,'DejaVu Sans Mono',consolas,'Courier New',monospace\">┏━━━━━━━━━━━━━━━━━━━━━━━━━━━━━━━━━┳━━━━━━━━━━━━━━━━━━━━━━━━┳━━━━━━━━━━━━━━━┓\n",
       "┃<span style=\"font-weight: bold\"> Layer (type)                    </span>┃<span style=\"font-weight: bold\"> Output Shape           </span>┃<span style=\"font-weight: bold\">       Param # </span>┃\n",
       "┡━━━━━━━━━━━━━━━━━━━━━━━━━━━━━━━━━╇━━━━━━━━━━━━━━━━━━━━━━━━╇━━━━━━━━━━━━━━━┩\n",
       "│ embedding_1 (<span style=\"color: #0087ff; text-decoration-color: #0087ff\">Embedding</span>)         │ (<span style=\"color: #00af00; text-decoration-color: #00af00\">32</span>, <span style=\"color: #00af00; text-decoration-color: #00af00\">500</span>, <span style=\"color: #00af00; text-decoration-color: #00af00\">128</span>)         │     <span style=\"color: #00af00; text-decoration-color: #00af00\">1,280,000</span> │\n",
       "├─────────────────────────────────┼────────────────────────┼───────────────┤\n",
       "│ simple_rnn_1 (<span style=\"color: #0087ff; text-decoration-color: #0087ff\">SimpleRNN</span>)        │ (<span style=\"color: #00af00; text-decoration-color: #00af00\">32</span>, <span style=\"color: #00af00; text-decoration-color: #00af00\">128</span>)              │        <span style=\"color: #00af00; text-decoration-color: #00af00\">32,896</span> │\n",
       "├─────────────────────────────────┼────────────────────────┼───────────────┤\n",
       "│ dense_1 (<span style=\"color: #0087ff; text-decoration-color: #0087ff\">Dense</span>)                 │ (<span style=\"color: #00af00; text-decoration-color: #00af00\">32</span>, <span style=\"color: #00af00; text-decoration-color: #00af00\">1</span>)                │           <span style=\"color: #00af00; text-decoration-color: #00af00\">129</span> │\n",
       "└─────────────────────────────────┴────────────────────────┴───────────────┘\n",
       "</pre>\n"
      ],
      "text/plain": [
       "┏━━━━━━━━━━━━━━━━━━━━━━━━━━━━━━━━━┳━━━━━━━━━━━━━━━━━━━━━━━━┳━━━━━━━━━━━━━━━┓\n",
       "┃\u001b[1m \u001b[0m\u001b[1mLayer (type)                   \u001b[0m\u001b[1m \u001b[0m┃\u001b[1m \u001b[0m\u001b[1mOutput Shape          \u001b[0m\u001b[1m \u001b[0m┃\u001b[1m \u001b[0m\u001b[1m      Param #\u001b[0m\u001b[1m \u001b[0m┃\n",
       "┡━━━━━━━━━━━━━━━━━━━━━━━━━━━━━━━━━╇━━━━━━━━━━━━━━━━━━━━━━━━╇━━━━━━━━━━━━━━━┩\n",
       "│ embedding_1 (\u001b[38;5;33mEmbedding\u001b[0m)         │ (\u001b[38;5;34m32\u001b[0m, \u001b[38;5;34m500\u001b[0m, \u001b[38;5;34m128\u001b[0m)         │     \u001b[38;5;34m1,280,000\u001b[0m │\n",
       "├─────────────────────────────────┼────────────────────────┼───────────────┤\n",
       "│ simple_rnn_1 (\u001b[38;5;33mSimpleRNN\u001b[0m)        │ (\u001b[38;5;34m32\u001b[0m, \u001b[38;5;34m128\u001b[0m)              │        \u001b[38;5;34m32,896\u001b[0m │\n",
       "├─────────────────────────────────┼────────────────────────┼───────────────┤\n",
       "│ dense_1 (\u001b[38;5;33mDense\u001b[0m)                 │ (\u001b[38;5;34m32\u001b[0m, \u001b[38;5;34m1\u001b[0m)                │           \u001b[38;5;34m129\u001b[0m │\n",
       "└─────────────────────────────────┴────────────────────────┴───────────────┘\n"
      ]
     },
     "metadata": {},
     "output_type": "display_data"
    },
    {
     "data": {
      "text/html": [
       "<pre style=\"white-space:pre;overflow-x:auto;line-height:normal;font-family:Menlo,'DejaVu Sans Mono',consolas,'Courier New',monospace\"><span style=\"font-weight: bold\"> Total params: </span><span style=\"color: #00af00; text-decoration-color: #00af00\">1,313,027</span> (5.01 MB)\n",
       "</pre>\n"
      ],
      "text/plain": [
       "\u001b[1m Total params: \u001b[0m\u001b[38;5;34m1,313,027\u001b[0m (5.01 MB)\n"
      ]
     },
     "metadata": {},
     "output_type": "display_data"
    },
    {
     "data": {
      "text/html": [
       "<pre style=\"white-space:pre;overflow-x:auto;line-height:normal;font-family:Menlo,'DejaVu Sans Mono',consolas,'Courier New',monospace\"><span style=\"font-weight: bold\"> Trainable params: </span><span style=\"color: #00af00; text-decoration-color: #00af00\">1,313,025</span> (5.01 MB)\n",
       "</pre>\n"
      ],
      "text/plain": [
       "\u001b[1m Trainable params: \u001b[0m\u001b[38;5;34m1,313,025\u001b[0m (5.01 MB)\n"
      ]
     },
     "metadata": {},
     "output_type": "display_data"
    },
    {
     "data": {
      "text/html": [
       "<pre style=\"white-space:pre;overflow-x:auto;line-height:normal;font-family:Menlo,'DejaVu Sans Mono',consolas,'Courier New',monospace\"><span style=\"font-weight: bold\"> Non-trainable params: </span><span style=\"color: #00af00; text-decoration-color: #00af00\">0</span> (0.00 B)\n",
       "</pre>\n"
      ],
      "text/plain": [
       "\u001b[1m Non-trainable params: \u001b[0m\u001b[38;5;34m0\u001b[0m (0.00 B)\n"
      ]
     },
     "metadata": {},
     "output_type": "display_data"
    },
    {
     "data": {
      "text/html": [
       "<pre style=\"white-space:pre;overflow-x:auto;line-height:normal;font-family:Menlo,'DejaVu Sans Mono',consolas,'Courier New',monospace\"><span style=\"font-weight: bold\"> Optimizer params: </span><span style=\"color: #00af00; text-decoration-color: #00af00\">2</span> (12.00 B)\n",
       "</pre>\n"
      ],
      "text/plain": [
       "\u001b[1m Optimizer params: \u001b[0m\u001b[38;5;34m2\u001b[0m (12.00 B)\n"
      ]
     },
     "metadata": {},
     "output_type": "display_data"
    }
   ],
   "source": [
    "model = load_model('imdb_rnn_model.h5')\n",
    "model.summary()"
   ]
  },
  {
   "cell_type": "code",
   "execution_count": 11,
   "metadata": {},
   "outputs": [
    {
     "data": {
      "text/plain": [
       "[array([[ 0.01750275,  0.15372647,  0.07861479, ...,  0.1263278 ,\n",
       "          0.13911691,  0.23221658],\n",
       "        [-0.12884438,  0.0618109 ,  0.00835613, ..., -0.00881797,\n",
       "          0.02572072,  0.04663366],\n",
       "        [ 0.05040706,  0.00351833, -0.13361599, ..., -0.13848312,\n",
       "         -0.0975248 , -0.15765634],\n",
       "        ...,\n",
       "        [ 0.00328233,  0.02049002,  0.05653322, ..., -0.05410322,\n",
       "          0.01071583,  0.01300804],\n",
       "        [ 0.02511413, -0.04460687,  0.06049415, ..., -0.01822449,\n",
       "          0.03132362,  0.01719385],\n",
       "        [-0.04540557, -0.02939232, -0.03622496, ..., -0.04968351,\n",
       "         -0.0865813 , -0.04687867]], dtype=float32),\n",
       " array([[ 0.06432426,  0.13923256,  0.06726411, ...,  0.03109057,\n",
       "         -0.00677346, -0.01552487],\n",
       "        [ 0.10479346, -0.00158942, -0.04479589, ...,  0.07028555,\n",
       "          0.06385858, -0.14440031],\n",
       "        [-0.0924601 ,  0.14208616, -0.07608385, ..., -0.05113009,\n",
       "         -0.13843206,  0.13537388],\n",
       "        ...,\n",
       "        [-0.0927887 , -0.11614989, -0.06141557, ..., -0.0275449 ,\n",
       "         -0.09117015, -0.07618185],\n",
       "        [-0.00294138,  0.04780841, -0.01551979, ...,  0.13701531,\n",
       "          0.06645243,  0.04096538],\n",
       "        [-0.0379791 ,  0.03898988,  0.05202838, ...,  0.04569703,\n",
       "         -0.07920877,  0.1140261 ]], dtype=float32),\n",
       " array([[ 0.06768828,  0.03735047, -0.00710129, ...,  0.03218677,\n",
       "          0.01386134, -0.00731038],\n",
       "        [ 0.07847809,  0.03285685,  0.25223023, ..., -0.14050432,\n",
       "          0.05525228, -0.05665831],\n",
       "        [ 0.04058846,  0.11251569,  0.00341799, ...,  0.05710848,\n",
       "         -0.0379982 ,  0.01669396],\n",
       "        ...,\n",
       "        [-0.06096584, -0.07144847,  0.02323011, ..., -0.00530197,\n",
       "         -0.04433717, -0.09699031],\n",
       "        [-0.13257755,  0.05417072, -0.1084962 , ...,  0.07389157,\n",
       "         -0.10531901, -0.11484423],\n",
       "        [-0.19715987, -0.08087962,  0.11111303, ...,  0.13779515,\n",
       "         -0.06433696, -0.15655299]], dtype=float32),\n",
       " array([-2.01330017e-02, -2.91676987e-02, -3.60435061e-02, -1.15192486e-02,\n",
       "        -1.30900601e-02, -3.51184607e-02,  1.09798023e-02, -5.90526825e-03,\n",
       "        -3.50042768e-02,  6.95030857e-03,  3.41509394e-02, -2.29582917e-02,\n",
       "        -4.22479436e-02, -2.00005881e-02, -8.55298713e-03, -4.10169922e-02,\n",
       "        -1.63284838e-02,  3.13488245e-02, -1.20179979e-02,  4.77604009e-03,\n",
       "        -2.64013428e-02,  3.21971416e-03,  8.86010379e-03, -3.41276336e-03,\n",
       "         2.05702316e-02, -1.55363800e-02,  3.50493379e-03, -1.17571987e-02,\n",
       "        -8.19544308e-03, -1.41141471e-02, -2.72066332e-02, -3.31917778e-02,\n",
       "        -4.45119198e-03, -7.27662398e-03, -3.54460999e-02,  1.40178744e-02,\n",
       "        -9.03787743e-03, -1.06638679e-02,  1.04852747e-02,  1.02918576e-02,\n",
       "        -1.69767514e-02, -1.63910966e-02,  9.65971500e-03, -3.85212433e-03,\n",
       "        -6.34008413e-03, -1.24235237e-02,  1.46235572e-02, -9.57288221e-03,\n",
       "        -1.49891125e-02,  9.71291307e-03, -2.12013293e-02,  9.17667802e-03,\n",
       "        -1.94871239e-02, -3.72072197e-02, -2.46002972e-02, -5.83597878e-03,\n",
       "        -1.82063133e-02, -1.95068046e-02,  1.40316773e-03,  1.43119658e-03,\n",
       "        -4.74084876e-02, -7.33691314e-03,  3.25133605e-03,  1.71575171e-03,\n",
       "        -1.92909054e-02, -2.23756824e-02, -3.57080512e-02, -3.77829298e-02,\n",
       "         2.09626253e-03, -4.10672463e-02, -1.08472314e-02, -2.57321894e-02,\n",
       "        -8.77097901e-03,  1.07072731e-02,  1.84899773e-02, -1.00157531e-02,\n",
       "         1.53781129e-02,  1.80470571e-02, -3.29558812e-02,  3.35423239e-02,\n",
       "        -2.39491500e-02,  2.66485353e-04, -2.85638850e-02, -1.89290438e-02,\n",
       "        -1.69779081e-02, -3.68905775e-02, -1.10417549e-02, -2.11542230e-02,\n",
       "         3.72597788e-05,  1.56709328e-02, -3.12830731e-02,  9.41287074e-03,\n",
       "        -2.00249311e-02, -2.23529413e-02,  6.24976978e-02, -2.02395022e-02,\n",
       "        -9.67737008e-03,  9.44424234e-03, -4.87065613e-02, -3.60499024e-02,\n",
       "        -3.04522868e-02, -2.76403055e-02, -2.12246762e-03, -4.54690568e-02,\n",
       "        -2.57241521e-02, -2.08567660e-02, -1.44188972e-02, -2.34502591e-02,\n",
       "         4.08541691e-03, -2.09985580e-02, -3.75667773e-02, -2.70378534e-02,\n",
       "        -2.69605275e-02, -2.42133606e-02,  2.77509224e-02, -2.52597760e-02,\n",
       "         7.57090794e-03, -3.50963846e-02,  1.26065882e-02,  5.77239506e-03,\n",
       "        -2.63981707e-03, -2.25678850e-02, -8.98907240e-03, -7.24313641e-03,\n",
       "        -9.93837416e-03,  1.60281193e-02,  4.43055667e-03, -4.46227342e-02],\n",
       "       dtype=float32),\n",
       " array([[ 0.08203219],\n",
       "        [-0.12932263],\n",
       "        [ 0.03704139],\n",
       "        [ 0.07380255],\n",
       "        [-0.22808449],\n",
       "        [-0.16190377],\n",
       "        [-0.00876727],\n",
       "        [-0.04514003],\n",
       "        [-0.141395  ],\n",
       "        [ 0.07498907],\n",
       "        [-0.5092627 ],\n",
       "        [ 0.03035951],\n",
       "        [-0.2045805 ],\n",
       "        [ 0.16184692],\n",
       "        [ 0.07378515],\n",
       "        [-0.02716115],\n",
       "        [-0.20358026],\n",
       "        [ 0.19561356],\n",
       "        [-0.12269931],\n",
       "        [ 0.08643995],\n",
       "        [ 0.05436128],\n",
       "        [-0.11326592],\n",
       "        [-0.14084724],\n",
       "        [-0.2283385 ],\n",
       "        [-0.16279829],\n",
       "        [-0.19239284],\n",
       "        [-0.17290288],\n",
       "        [ 0.19730584],\n",
       "        [ 0.0113159 ],\n",
       "        [ 0.02103205],\n",
       "        [ 0.2325364 ],\n",
       "        [ 0.01284477],\n",
       "        [-0.12116735],\n",
       "        [-0.12885445],\n",
       "        [ 0.01292583],\n",
       "        [-0.23213688],\n",
       "        [ 0.1622057 ],\n",
       "        [ 0.00755497],\n",
       "        [ 0.10688339],\n",
       "        [ 0.02011966],\n",
       "        [-0.10907098],\n",
       "        [ 0.096962  ],\n",
       "        [ 0.22066744],\n",
       "        [ 0.04652375],\n",
       "        [ 0.14082204],\n",
       "        [-0.33512238],\n",
       "        [ 0.07864034],\n",
       "        [ 0.22295804],\n",
       "        [-0.3806198 ],\n",
       "        [-0.09107792],\n",
       "        [-0.19682889],\n",
       "        [-0.24984479],\n",
       "        [-0.38409445],\n",
       "        [-0.02062827],\n",
       "        [ 0.15264487],\n",
       "        [-0.08683527],\n",
       "        [-0.5479289 ],\n",
       "        [ 0.17623267],\n",
       "        [ 0.06947748],\n",
       "        [-0.19062127],\n",
       "        [ 0.11868693],\n",
       "        [-0.3139162 ],\n",
       "        [ 0.10569016],\n",
       "        [ 0.2307081 ],\n",
       "        [-0.1934227 ],\n",
       "        [ 0.1987403 ],\n",
       "        [ 0.05211466],\n",
       "        [ 0.04584396],\n",
       "        [ 0.17217438],\n",
       "        [ 0.16189045],\n",
       "        [ 0.00276827],\n",
       "        [-0.01611825],\n",
       "        [-0.04756328],\n",
       "        [ 0.02876759],\n",
       "        [-0.20205218],\n",
       "        [-0.17230307],\n",
       "        [-0.07778059],\n",
       "        [-0.20790319],\n",
       "        [-0.12078251],\n",
       "        [ 0.16323908],\n",
       "        [-0.04728961],\n",
       "        [ 0.21598595],\n",
       "        [-0.15021268],\n",
       "        [ 0.1360416 ],\n",
       "        [-0.19814582],\n",
       "        [ 0.04069182],\n",
       "        [ 0.16699947],\n",
       "        [-0.00599182],\n",
       "        [ 0.1479241 ],\n",
       "        [ 0.2548777 ],\n",
       "        [-0.16168138],\n",
       "        [ 0.23674202],\n",
       "        [-0.07790508],\n",
       "        [ 0.04149041],\n",
       "        [-0.26317027],\n",
       "        [ 0.11501554],\n",
       "        [-0.1697116 ],\n",
       "        [ 0.099765  ],\n",
       "        [ 0.15029302],\n",
       "        [-0.06186121],\n",
       "        [ 0.02411305],\n",
       "        [-0.1737113 ],\n",
       "        [ 0.1690751 ],\n",
       "        [-0.01624671],\n",
       "        [-0.07905219],\n",
       "        [-0.05976866],\n",
       "        [-0.08553947],\n",
       "        [-0.0063428 ],\n",
       "        [ 0.05343366],\n",
       "        [-0.19309787],\n",
       "        [-0.12581375],\n",
       "        [ 0.03511574],\n",
       "        [-0.00132412],\n",
       "        [-0.15714654],\n",
       "        [ 0.2396195 ],\n",
       "        [ 0.2467257 ],\n",
       "        [ 0.23525949],\n",
       "        [ 0.1370675 ],\n",
       "        [-0.06742319],\n",
       "        [-0.11313431],\n",
       "        [ 0.20755254],\n",
       "        [ 0.13534772],\n",
       "        [-0.19952747],\n",
       "        [-0.06958296],\n",
       "        [-0.18975611],\n",
       "        [-0.22309698],\n",
       "        [ 0.17804724],\n",
       "        [-0.2565524 ]], dtype=float32),\n",
       " array([-0.20386411], dtype=float32)]"
      ]
     },
     "execution_count": 11,
     "metadata": {},
     "output_type": "execute_result"
    }
   ],
   "source": [
    "model.get_weights()"
   ]
  },
  {
   "cell_type": "code",
   "execution_count": 12,
   "metadata": {},
   "outputs": [],
   "source": [
    "def decode_review(text):\n",
    "    return ' '.join([reverse_word_index.get(i - 3, '?') for i in text])\n",
    "\n",
    "def preprocess_text(text):\n",
    "    words = text.lower().split()\n",
    "    encoded_review = [word_index.get(word, 2)+3 for word in words]\n",
    "    padded_review = sequence.pad_sequences([encoded_review], maxlen=500)\n",
    "    return padded_review"
   ]
  },
  {
   "cell_type": "code",
   "execution_count": 14,
   "metadata": {},
   "outputs": [],
   "source": [
    "def predcit(text):\n",
    "    padded_review = preprocess_text(text)\n",
    "    prediction = model.predict(padded_review)\n",
    "    sentiment = 'positive' if prediction[0][0] > 0.5 else 'negative'\n",
    "    return sentiment, prediction"
   ]
  },
  {
   "cell_type": "code",
   "execution_count": 15,
   "metadata": {},
   "outputs": [
    {
     "name": "stdout",
     "output_type": "stream",
     "text": [
      "\u001b[1m1/1\u001b[0m \u001b[32m━━━━━━━━━━━━━━━━━━━━\u001b[0m\u001b[37m\u001b[0m \u001b[1m0s\u001b[0m 106ms/step\n",
      "Sentiment: negative\n",
      "Prediction: 0.25933125615119934\n"
     ]
    }
   ],
   "source": [
    "example_review = \"This movie was fantastic! The acting was great and the plot was thrilling.\"\n",
    "\n",
    "sentiment, prediction = predcit(example_review)\n",
    "print(f\"Sentiment: {sentiment}\")\n",
    "print(f\"Prediction: {prediction[0][0]}\")"
   ]
  }
 ],
 "metadata": {
  "kernelspec": {
   "display_name": "venv",
   "language": "python",
   "name": "python3"
  },
  "language_info": {
   "codemirror_mode": {
    "name": "ipython",
    "version": 3
   },
   "file_extension": ".py",
   "mimetype": "text/x-python",
   "name": "python",
   "nbconvert_exporter": "python",
   "pygments_lexer": "ipython3",
   "version": "3.12.7"
  }
 },
 "nbformat": 4,
 "nbformat_minor": 2
}
