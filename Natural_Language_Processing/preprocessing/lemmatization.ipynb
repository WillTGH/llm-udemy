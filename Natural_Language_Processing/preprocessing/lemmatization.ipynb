{
 "cells": [
  {
   "cell_type": "markdown",
   "metadata": {},
   "source": [
    "wordnet lemmatizer simillar to stemming but better"
   ]
  },
  {
   "cell_type": "code",
   "execution_count": 1,
   "metadata": {},
   "outputs": [],
   "source": [
    "from nltk.stem import WordNetLemmatizer"
   ]
  },
  {
   "cell_type": "code",
   "execution_count": 2,
   "metadata": {},
   "outputs": [],
   "source": [
    "lemmatizer = WordNetLemmatizer()"
   ]
  },
  {
   "cell_type": "code",
   "execution_count": 4,
   "metadata": {},
   "outputs": [],
   "source": [
    "words = [\n",
    "    \"running\",\n",
    "    \"ran\",\n",
    "    \"run\",\n",
    "    \"jumps\",\n",
    "    \"jumped\",\n",
    "    \"easy\",\n",
    "    \"easily\",]"
   ]
  },
  {
   "cell_type": "code",
   "execution_count": null,
   "metadata": {},
   "outputs": [
    {
     "data": {
      "text/plain": [
       "'run'"
      ]
     },
     "execution_count": 3,
     "metadata": {},
     "output_type": "execute_result"
    }
   ],
   "source": [
    "'''\n",
    "pos noun = n\n",
    "pos verb = v\n",
    "pos adjective = a\n",
    "pos adverb = r\n",
    "'''\n",
    "lemmatizer.lemmatize(\"running\", pos=\"v\")  # Verb"
   ]
  },
  {
   "cell_type": "code",
   "execution_count": 11,
   "metadata": {},
   "outputs": [
    {
     "name": "stdout",
     "output_type": "stream",
     "text": [
      "running ----> run\n",
      "ran ----> run\n",
      "run ----> run\n",
      "jumps ----> jump\n",
      "jumped ----> jump\n",
      "easy ----> easy\n",
      "easily ----> easily\n"
     ]
    }
   ],
   "source": [
    "for word in words:\n",
    "    print(f'{word} ----> {lemmatizer.lemmatize(word, 'v')}')"
   ]
  }
 ],
 "metadata": {
  "kernelspec": {
   "display_name": "venv",
   "language": "python",
   "name": "python3"
  },
  "language_info": {
   "codemirror_mode": {
    "name": "ipython",
    "version": 3
   },
   "file_extension": ".py",
   "mimetype": "text/x-python",
   "name": "python",
   "nbconvert_exporter": "python",
   "pygments_lexer": "ipython3",
   "version": "3.12.4"
  }
 },
 "nbformat": 4,
 "nbformat_minor": 2
}
