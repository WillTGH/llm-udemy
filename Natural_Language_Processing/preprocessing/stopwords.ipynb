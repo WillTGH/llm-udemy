{
 "cells": [
  {
   "cell_type": "markdown",
   "metadata": {},
   "source": [
    "stopwords"
   ]
  },
  {
   "cell_type": "code",
   "execution_count": 73,
   "metadata": {},
   "outputs": [],
   "source": [
    "corpus = '''I believe Natural Language Processing (NLP) is a rapidly evolving field within artificial intelligence that focuses on the interaction between computers and human language. \n",
    "It enables machines to understand, interpret, and generate human language in a way that is both meaningful and useful. \n",
    "Applications of NLP are vast and include tasks such as language translation, sentiment analysis, text summarization, and chatbot development. \n",
    "By leveraging techniques like tokenization, stemming, and stopword removal, NLP systems can preprocess text data to extract valuable insights. \n",
    "These systems are widely used in industries ranging from healthcare and finance to customer service and entertainment. \n",
    "As technology advances, NLP continues to play a crucial role in bridging the gap between human communication and machine understanding, making it an indispensable tool in the modern world.'''"
   ]
  },
  {
   "cell_type": "code",
   "execution_count": 74,
   "metadata": {},
   "outputs": [
    {
     "data": {
      "text/plain": [
       "'I believe Natural Language Processing (NLP) is a rapidly evolving field within artificial intelligence that focuses on the interaction between computers and human language. \\nIt enables machines to understand, interpret, and generate human language in a way that is both meaningful and useful. \\nApplications of NLP are vast and include tasks such as language translation, sentiment analysis, text summarization, and chatbot development. \\nBy leveraging techniques like tokenization, stemming, and stopword removal, NLP systems can preprocess text data to extract valuable insights. \\nThese systems are widely used in industries ranging from healthcare and finance to customer service and entertainment. \\nAs technology advances, NLP continues to play a crucial role in bridging the gap between human communication and machine understanding, making it an indispensable tool in the modern world.'"
      ]
     },
     "execution_count": 74,
     "metadata": {},
     "output_type": "execute_result"
    }
   ],
   "source": [
    "corpus"
   ]
  },
  {
   "cell_type": "code",
   "execution_count": 75,
   "metadata": {},
   "outputs": [],
   "source": [
    "from nltk.stem import PorterStemmer\n",
    "from nltk.corpus import stopwords"
   ]
  },
  {
   "cell_type": "code",
   "execution_count": 76,
   "metadata": {},
   "outputs": [
    {
     "name": "stderr",
     "output_type": "stream",
     "text": [
      "[nltk_data] Downloading package stopwords to\n",
      "[nltk_data]     C:\\Users\\ZeroIchi\\AppData\\Roaming\\nltk_data...\n",
      "[nltk_data]   Package stopwords is already up-to-date!\n"
     ]
    },
    {
     "data": {
      "text/plain": [
       "True"
      ]
     },
     "execution_count": 76,
     "metadata": {},
     "output_type": "execute_result"
    }
   ],
   "source": [
    "import nltk\n",
    "nltk.download('stopwords')"
   ]
  },
  {
   "cell_type": "code",
   "execution_count": 77,
   "metadata": {},
   "outputs": [],
   "source": [
    "stemmer = PorterStemmer()"
   ]
  },
  {
   "cell_type": "code",
   "execution_count": 78,
   "metadata": {},
   "outputs": [],
   "source": [
    "sentences = nltk.sent_tokenize(corpus)"
   ]
  },
  {
   "cell_type": "code",
   "execution_count": 79,
   "metadata": {},
   "outputs": [
    {
     "data": {
      "text/plain": [
       "['i believ natur languag process ( nlp ) rapidli evolv field within artifici intellig focus interact comput human languag .',\n",
       " 'it enabl machin understand , interpret , gener human languag way meaning use .',\n",
       " 'applic nlp vast includ task languag translat , sentiment analysi , text summar , chatbot develop .',\n",
       " 'by leverag techniqu like token , stem , stopword remov , nlp system preprocess text data extract valuabl insight .',\n",
       " 'these system wide use industri rang healthcar financ custom servic entertain .',\n",
       " 'as technolog advanc , nlp continu play crucial role bridg gap human commun machin understand , make indispens tool modern world .']"
      ]
     },
     "execution_count": 79,
     "metadata": {},
     "output_type": "execute_result"
    }
   ],
   "source": [
    "# apply stopwords and filter then apply stemming\n",
    "new_sentences = []\n",
    "for i in range(len(sentences)):\n",
    "    words = nltk.word_tokenize(sentences[i])\n",
    "    words = [stemmer.stem(word) for word in words if word not in set(stopwords.words('english'))]\n",
    "    new_sentences.append(' '.join(words))\n",
    "    \n",
    "new_sentences"
   ]
  },
  {
   "cell_type": "code",
   "execution_count": 80,
   "metadata": {},
   "outputs": [],
   "source": [
    "from nltk.stem import SnowballStemmer"
   ]
  },
  {
   "cell_type": "code",
   "execution_count": 81,
   "metadata": {},
   "outputs": [],
   "source": [
    "snowball_stemmer = SnowballStemmer(\"english\")"
   ]
  },
  {
   "cell_type": "code",
   "execution_count": 82,
   "metadata": {},
   "outputs": [
    {
     "data": {
      "text/plain": [
       "['i believ natur languag process ( nlp ) rapid evolv field within artifici intellig focus interact comput human languag .',\n",
       " 'it enabl machin understand , interpret , generat human languag way meaning use .',\n",
       " 'applic nlp vast includ task languag translat , sentiment analysi , text summar , chatbot develop .',\n",
       " 'by leverag techniqu like token , stem , stopword remov , nlp system preprocess text data extract valuabl insight .',\n",
       " 'these system wide use industri rang healthcar financ custom servic entertain .',\n",
       " 'as technolog advanc , nlp continu play crucial role bridg gap human communic machin understand , make indispens tool modern world .']"
      ]
     },
     "execution_count": 82,
     "metadata": {},
     "output_type": "execute_result"
    }
   ],
   "source": [
    "new_sentences = []\n",
    "for i in range(len(sentences)):\n",
    "    words = nltk.word_tokenize(sentences[i])\n",
    "    words = [snowball_stemmer.stem(word) for word in words if word not in set(stopwords.words('english'))]\n",
    "    new_sentences.append(' '.join(words))\n",
    "    \n",
    "new_sentences"
   ]
  },
  {
   "cell_type": "code",
   "execution_count": 83,
   "metadata": {},
   "outputs": [],
   "source": [
    "from nltk.stem import WordNetLemmatizer"
   ]
  },
  {
   "cell_type": "code",
   "execution_count": 84,
   "metadata": {},
   "outputs": [],
   "source": [
    "lemmatizer = WordNetLemmatizer()"
   ]
  },
  {
   "cell_type": "code",
   "execution_count": 86,
   "metadata": {},
   "outputs": [
    {
     "data": {
      "text/plain": [
       "['I believe Natural Language Processing ( NLP ) rapidly evolve field within artificial intelligence focus interaction computers human language .',\n",
       " 'It enable machine understand , interpret , generate human language way meaningful useful .',\n",
       " 'Applications NLP vast include task language translation , sentiment analysis , text summarization , chatbot development .',\n",
       " 'By leverage techniques like tokenization , stem , stopword removal , NLP systems preprocess text data extract valuable insights .',\n",
       " 'These systems widely use industries range healthcare finance customer service entertainment .',\n",
       " 'As technology advance , NLP continue play crucial role bridge gap human communication machine understand , make indispensable tool modern world .']"
      ]
     },
     "execution_count": 86,
     "metadata": {},
     "output_type": "execute_result"
    }
   ],
   "source": [
    "new_sentences = []\n",
    "for i in range(len(sentences)):\n",
    "    words = nltk.word_tokenize(sentences[i])\n",
    "    words = [lemmatizer.lemmatize(word, pos='v') for word in words if word not in set(stopwords.words('english'))]\n",
    "    new_sentences.append(' '.join(words))\n",
    "    \n",
    "new_sentences"
   ]
  }
 ],
 "metadata": {
  "kernelspec": {
   "display_name": "venv",
   "language": "python",
   "name": "python3"
  },
  "language_info": {
   "codemirror_mode": {
    "name": "ipython",
    "version": 3
   },
   "file_extension": ".py",
   "mimetype": "text/x-python",
   "name": "python",
   "nbconvert_exporter": "python",
   "pygments_lexer": "ipython3",
   "version": "3.12.4"
  }
 },
 "nbformat": 4,
 "nbformat_minor": 2
}
