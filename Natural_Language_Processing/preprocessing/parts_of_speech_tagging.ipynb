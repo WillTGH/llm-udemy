{
 "cells": [
  {
   "cell_type": "markdown",
   "metadata": {},
   "source": [
    "part of speech tagging"
   ]
  },
  {
   "cell_type": "markdown",
   "metadata": {},
   "source": [
    "CC coordinating conjunction \n",
    "CD cardinal digit \n",
    "DT determiner \n",
    "EX existential there (like: “there is” … think of it like “there exists”) \n",
    "FW foreign word \n",
    "IN preposition/subordinating conjunction \n",
    "JJ adjective – ‘big’ \n",
    "JJR adjective, comparative – ‘bigger’ \n",
    "JJS adjective, superlative – ‘biggest’ \n",
    "LS list marker 1) \n",
    "MD modal – could, will \n",
    "NN noun, singular ‘- desk’ \n",
    "NNS noun plural – ‘desks’ \n",
    "NNP proper noun, singular – ‘Harrison’ \n",
    "NNPS proper noun, plural – ‘Americans’ \n",
    "PDT predeterminer – ‘all the kids’ \n",
    "POS possessive ending parent’s \n",
    "PRP personal pronoun –  I, he, she \n",
    "PRP$ possessive pronoun – my, his, hers \n",
    "RB adverb – very, silently, \n",
    "RBR adverb, comparative – better \n",
    "RBS adverb, superlative – best \n",
    "RP particle – give up \n",
    "TO – to go ‘to’ the store. \n",
    "UH interjection – errrrrrrrm \n",
    "VB verb, base form – take \n",
    "VBD verb, past tense – took \n",
    "VBG verb, gerund/present participle – taking \n",
    "VBN verb, past participle – taken \n",
    "VBP verb, sing. present, non-3d – take \n",
    "VBZ verb, 3rd person sing. present – takes \n",
    "WDT wh-determiner – which \n",
    "WP wh-pronoun – who, what \n",
    "WP$ possessive wh-pronoun, eg- whose \n",
    "WRB wh-adverb, eg- where, when"
   ]
  },
  {
   "cell_type": "code",
   "execution_count": 1,
   "metadata": {},
   "outputs": [],
   "source": [
    "corpus = '''I believe Natural Language Processing (NLP) is a rapidly evolving field within artificial intelligence that focuses on the interaction between computers and human language. \n",
    "It enables machines to understand, interpret, and generate human language in a way that is both meaningful and useful. \n",
    "Applications of NLP are vast and include tasks such as language translation, sentiment analysis, text summarization, and chatbot development. \n",
    "By leveraging techniques like tokenization, stemming, and stopword removal, NLP systems can preprocess text data to extract valuable insights. \n",
    "These systems are widely used in industries ranging from healthcare and finance to customer service and entertainment. \n",
    "As technology advances, NLP continues to play a crucial role in bridging the gap between human communication and machine understanding, making it an indispensable tool in the modern world.'''"
   ]
  },
  {
   "cell_type": "code",
   "execution_count": 2,
   "metadata": {},
   "outputs": [
    {
     "data": {
      "text/plain": [
       "'I believe Natural Language Processing (NLP) is a rapidly evolving field within artificial intelligence that focuses on the interaction between computers and human language. \\nIt enables machines to understand, interpret, and generate human language in a way that is both meaningful and useful. \\nApplications of NLP are vast and include tasks such as language translation, sentiment analysis, text summarization, and chatbot development. \\nBy leveraging techniques like tokenization, stemming, and stopword removal, NLP systems can preprocess text data to extract valuable insights. \\nThese systems are widely used in industries ranging from healthcare and finance to customer service and entertainment. \\nAs technology advances, NLP continues to play a crucial role in bridging the gap between human communication and machine understanding, making it an indispensable tool in the modern world.'"
      ]
     },
     "execution_count": 2,
     "metadata": {},
     "output_type": "execute_result"
    }
   ],
   "source": [
    "corpus"
   ]
  },
  {
   "cell_type": "code",
   "execution_count": 5,
   "metadata": {},
   "outputs": [
    {
     "data": {
      "text/plain": [
       "['I believe Natural Language Processing (NLP) is a rapidly evolving field within artificial intelligence that focuses on the interaction between computers and human language.',\n",
       " 'It enables machines to understand, interpret, and generate human language in a way that is both meaningful and useful.',\n",
       " 'Applications of NLP are vast and include tasks such as language translation, sentiment analysis, text summarization, and chatbot development.',\n",
       " 'By leveraging techniques like tokenization, stemming, and stopword removal, NLP systems can preprocess text data to extract valuable insights.',\n",
       " 'These systems are widely used in industries ranging from healthcare and finance to customer service and entertainment.',\n",
       " 'As technology advances, NLP continues to play a crucial role in bridging the gap between human communication and machine understanding, making it an indispensable tool in the modern world.']"
      ]
     },
     "execution_count": 5,
     "metadata": {},
     "output_type": "execute_result"
    }
   ],
   "source": [
    "from nltk.corpus import stopwords\n",
    "sentences = nltk.sent_tokenize(corpus)\n",
    "sentences"
   ]
  },
  {
   "cell_type": "code",
   "execution_count": 7,
   "metadata": {},
   "outputs": [
    {
     "name": "stdout",
     "output_type": "stream",
     "text": [
      "[('I', 'PRP'), ('believe', 'VBP'), ('Natural', 'JJ'), ('Language', 'NNP'), ('Processing', 'NNP'), ('(', '('), ('NLP', 'NNP'), (')', ')'), ('rapidly', 'RB'), ('evolving', 'VBG'), ('field', 'NN'), ('within', 'IN'), ('artificial', 'JJ'), ('intelligence', 'NN'), ('focuses', 'VBZ'), ('interaction', 'NN'), ('computers', 'NNS'), ('human', 'JJ'), ('language', 'NN'), ('.', '.')]\n",
      "[('It', 'PRP'), ('enables', 'VBZ'), ('machines', 'NNS'), ('understand', 'NN'), (',', ','), ('interpret', 'NN'), (',', ','), ('generate', 'VBP'), ('human', 'JJ'), ('language', 'NN'), ('way', 'NN'), ('meaningful', 'JJ'), ('useful', 'JJ'), ('.', '.')]\n",
      "[('Applications', 'NNS'), ('NLP', 'NNP'), ('vast', 'JJ'), ('include', 'VBP'), ('tasks', 'JJ'), ('language', 'NN'), ('translation', 'NN'), (',', ','), ('sentiment', 'NN'), ('analysis', 'NN'), (',', ','), ('text', 'JJ'), ('summarization', 'NN'), (',', ','), ('chatbot', 'NN'), ('development', 'NN'), ('.', '.')]\n",
      "[('By', 'IN'), ('leveraging', 'VBG'), ('techniques', 'NNS'), ('like', 'IN'), ('tokenization', 'NN'), (',', ','), ('stemming', 'VBG'), (',', ','), ('stopword', 'NN'), ('removal', 'NN'), (',', ','), ('NLP', 'NNP'), ('systems', 'NNS'), ('preprocess', 'JJ'), ('text', 'JJ'), ('data', 'NNS'), ('extract', 'NN'), ('valuable', 'JJ'), ('insights', 'NNS'), ('.', '.')]\n",
      "[('These', 'DT'), ('systems', 'NNS'), ('widely', 'RB'), ('used', 'VBN'), ('industries', 'NNS'), ('ranging', 'VBG'), ('healthcare', 'NN'), ('finance', 'NN'), ('customer', 'NN'), ('service', 'NN'), ('entertainment', 'NN'), ('.', '.')]\n",
      "[('As', 'IN'), ('technology', 'NN'), ('advances', 'NNS'), (',', ','), ('NLP', 'NNP'), ('continues', 'VBZ'), ('play', 'VB'), ('crucial', 'JJ'), ('role', 'NN'), ('bridging', 'VBG'), ('gap', 'NN'), ('human', 'JJ'), ('communication', 'NN'), ('machine', 'NN'), ('understanding', 'NN'), (',', ','), ('making', 'VBG'), ('indispensable', 'JJ'), ('tool', 'NN'), ('modern', 'JJ'), ('world', 'NN'), ('.', '.')]\n"
     ]
    }
   ],
   "source": [
    "for i in range(len(sentences)):\n",
    "    words = nltk.word_tokenize(sentences[i])\n",
    "    words = [word for word in words if word not in set(stopwords.words('english'))]\n",
    "    pos_tag = nltk.pos_tag(words)\n",
    "    print(pos_tag)\n"
   ]
  },
  {
   "cell_type": "code",
   "execution_count": null,
   "metadata": {},
   "outputs": [],
   "source": []
  }
 ],
 "metadata": {
  "kernelspec": {
   "display_name": "venv",
   "language": "python",
   "name": "python3"
  },
  "language_info": {
   "codemirror_mode": {
    "name": "ipython",
    "version": 3
   },
   "file_extension": ".py",
   "mimetype": "text/x-python",
   "name": "python",
   "nbconvert_exporter": "python",
   "pygments_lexer": "ipython3",
   "version": "3.12.4"
  }
 },
 "nbformat": 4,
 "nbformat_minor": 2
}
